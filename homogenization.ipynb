{
  "nbformat": 4,
  "nbformat_minor": 0,
  "metadata": {
    "colab": {
      "provenance": [],
      "collapsed_sections": []
    },
    "kernelspec": {
      "name": "python3",
      "display_name": "Python 3"
    },
    "language_info": {
      "name": "python"
    }
  },
  "cells": [
    {
      "cell_type": "code",
      "execution_count": 71,
      "metadata": {
        "id": "X2l4zHW7Zx3M"
      },
      "outputs": [],
      "source": [
        "import numpy as np\n",
        "import matplotlib.pyplot as plt\n",
        "import zipfile\n",
        "try:\n",
        "  import google.colab\n",
        "except ImportError:\n",
        "  from dolfin import *\n",
        "else:\n",
        "  try:\n",
        "    from dolfin import *\n",
        "  except ImportError:\n",
        "    !wget \"https://fem-on-colab.github.io/releases/fenics-install.sh\" -O \"/tmp/fenics-install.sh\" && bash \"/tmp/fenics-install.sh\"\n",
        "    from dolfin import *\n",
        "%matplotlib inline"
      ]
    },
    {
      "cell_type": "code",
      "source": [
        "#1. Domain discretisation\n",
        "!wget \"https://github.com/niravshah241/homogenization/archive/refs/heads/main.zip\" -O \"/tmp/github_files.zip\"\n",
        "\n",
        "zip_ref = zipfile.ZipFile(\"/tmp/github_files.zip\", 'r')\n",
        "zip_ref.extractall(\"/tmp\")\n",
        "zip_ref.close()\n",
        "\n",
        "mesh = Mesh(\"/tmp/homogenization-main/mesh_data/mesh.xml\")\n",
        "subdomains = MeshFunction(\"size_t\", mesh, \"/tmp/homogenization-main/mesh_data/mesh_physical_region.xml\")\n",
        "boundaries = MeshFunction(\"size_t\", mesh, \"/tmp/homogenization-main/mesh_data/mesh_facet_region.xml\")\n",
        "\n",
        "dx = Measure(\"dx\")(subdomain_data=subdomains)\n",
        "ds = Measure(\"ds\")(subdomain_data=boundaries)\n",
        "\n",
        "dx_left = dx(1) #Subdomain 1\n",
        "dx_right = dx(2) #Subdomain 2\n",
        "\n",
        "ds_left = ds(1) #Left boundary\n",
        "ds_right = ds(5) #Right boundary\n",
        "ds_top = ds(2) + ds(4) #Top boundary\n",
        "ds_botom = ds(3) + ds(6) #Bottom boundary\n",
        "\n",
        "n = FacetNormal(mesh)"
      ],
      "metadata": {
        "id": "AJwtMj3oay2c"
      },
      "execution_count": null,
      "outputs": []
    },
    {
      "cell_type": "code",
      "source": [
        "# 2. Create Finite Element space (Lagrange P1)\n",
        "VT = FunctionSpace(mesh,\"CG\",1) # Space for temperature field\n",
        "T_, psi = TrialFunction(VT), TestFunction(VT)\n",
        "T = Function(VT,name=\"Temperature\") # Temperature field\n",
        "T_eq = Function(VT,name=\"Temperature_Equivalent\") # Temperature field with equaivalent conductivity\n",
        "\n",
        "if VT.ufl_element().degree() == 1:\n",
        "  VQ = VectorFunctionSpace(mesh,\"CG\",VT.ufl_element().degree()) # Space for heat flux\n",
        "else:\n",
        "  VQ = VectorFunctionSpace(mesh,\"CG\",VT.ufl_element().degree()-1) # Space for heat flux\n",
        "q_, psi_q = TrialFunction(VQ), TestFunction(VQ)\n",
        "q = Function(VQ)"
      ],
      "metadata": {
        "id": "5v2CaA0Drco9"
      },
      "execution_count": 73,
      "outputs": []
    },
    {
      "cell_type": "code",
      "source": [
        "# 3. Material and boundary properties, Source term\n",
        "k_left = 8. # Thermal conductivity left subdomain\n",
        "k_right = 4. # Thermal conductivity right subdomain\n",
        "T_left = Constant(1800.) # Temperature on left boundary\n",
        "T_right = Constant(300.) # Temperature on right boundary"
      ],
      "metadata": {
        "id": "7yexYQmksX1X"
      },
      "execution_count": 74,
      "outputs": []
    },
    {
      "cell_type": "code",
      "source": [
        "# 4. Compute heat flux\n",
        "\n",
        "def compute_heat_flux(temp_field):\n",
        "  '''\n",
        "  Compute the heat flux at given temperature field\n",
        "  Input:\n",
        "  temp_field: Function over Functionspace\n",
        "  Output:\n",
        "  q: Function over VectorFunctionSpace\n",
        "  '''\n",
        "  a_q = inner(q_, psi_q) * dx_left + inner(q_, psi_q) * dx_right\n",
        "  l_q = inner(-k_left * grad(temp_field), psi_q) * dx_left + inner(-k_right * grad(temp_field), psi_q) * dx_right\n",
        "  solve(a_q == l_q, q)\n",
        "  return q"
      ],
      "metadata": {
        "id": "G1L5xx1es3Ok"
      },
      "execution_count": 75,
      "outputs": []
    },
    {
      "cell_type": "code",
      "source": [
        "# 5. Weak formulation\n",
        "a_T = inner(k_left*grad(T_),grad(psi)) * dx_left + inner(k_right*grad(T_),grad(psi)) * dx_right\n",
        "l_T = inner(Constant(0.),psi) * dx\n",
        "\n",
        "bcs = [DirichletBC(VT,T_left,boundaries,1),DirichletBC(VT,T_right,boundaries,5)]\n",
        "\n",
        "solve(a_T==l_T,T,bcs)"
      ],
      "metadata": {
        "id": "l7kYGQN4tNt5"
      },
      "execution_count": 76,
      "outputs": []
    },
    {
      "cell_type": "code",
      "source": [
        "# 6. Post processing\n",
        "\n",
        "xdmf_file = XDMFFile(\"/tmp/homogenization-main/solution_field/temperature.xdmf\") #Path to save output files in google drive\n",
        "xdmf_file.parameters[\"flush_output\"] = True\n",
        "xdmf_file.parameters[\"functions_share_mesh\"] = True\n",
        "xdmf_file.parameters[\"rewrite_function_mesh\"] = False\n",
        "xdmf_file.write(T,0)\n",
        "xdmf_file.write(compute_heat_flux(T),0)"
      ],
      "metadata": {
        "id": "tba5jDXwOxks"
      },
      "execution_count": 77,
      "outputs": []
    },
    {
      "cell_type": "code",
      "source": [
        "# 7. Compute equivalent conductivity and solution fields\n",
        "k_eq = -assemble(compute_heat_flux(T)[0]*dx) / assemble(T.dx(0)*dx)\n",
        "print(k_eq)\n",
        "\n",
        "a_T = inner(k_eq*grad(T_),grad(psi)) * dx\n",
        "l_T = inner(Constant(0.),psi) * dx\n",
        "\n",
        "bcs = [DirichletBC(VT,T_left,boundaries,1),DirichletBC(VT,T_right,boundaries,5)]\n",
        "\n",
        "solve(a_T==l_T,T_eq,bcs)\n",
        "\n",
        "plot(T_eq)\n",
        "plt.show()"
      ],
      "metadata": {
        "id": "lHedgkC15VBb"
      },
      "execution_count": null,
      "outputs": []
    },
    {
      "cell_type": "code",
      "source": [
        "# 8. Post processing\n",
        "\n",
        "xdmf_file = XDMFFile(\"/tmp/homogenization-main/solution_field/temperature_equivalent.xdmf\") #Path to save output files in google drive\n",
        "xdmf_file.parameters[\"flush_output\"] = True\n",
        "xdmf_file.parameters[\"functions_share_mesh\"] = True\n",
        "xdmf_file.parameters[\"rewrite_function_mesh\"] = False\n",
        "xdmf_file.write(T_eq,0)\n",
        "xdmf_file.write(compute_heat_flux(T_eq),0)"
      ],
      "metadata": {
        "id": "GrQGe9KuPGHp"
      },
      "execution_count": 79,
      "outputs": []
    },
    {
      "cell_type": "code",
      "source": [
        "# 9. Error assessment and post processing of error\n",
        "error = norm(project(T-T_eq,VT),\"L2\")/norm(T,\"L2\")\n",
        "print(\"Error: \",error)\n",
        "\n",
        "xdmf_file = XDMFFile(\"/tmp/homogenization-main/solution_field/spatial_error.xdmf\") #Path to save output files in google drive\n",
        "xdmf_file.parameters[\"flush_output\"] = True\n",
        "xdmf_file.parameters[\"functions_share_mesh\"] = True\n",
        "xdmf_file.parameters[\"rewrite_function_mesh\"] = False\n",
        "xdmf_file.write(project(T-T_eq,VT),0)\n",
        "xdmf_file.write(project(compute_heat_flux(T-T_eq),VQ),0)"
      ],
      "metadata": {
        "id": "1wTNR1l_55mc"
      },
      "execution_count": null,
      "outputs": []
    }
  ]
}