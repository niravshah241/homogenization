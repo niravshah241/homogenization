{
  "nbformat": 4,
  "nbformat_minor": 0,
  "metadata": {
    "colab": {
      "provenance": [],
      "collapsed_sections": [],
      "include_colab_link": true
    },
    "kernelspec": {
      "name": "python3",
      "display_name": "Python 3"
    },
    "language_info": {
      "name": "python"
    }
  },
  "cells": [
    {
      "cell_type": "markdown",
      "metadata": {
        "id": "view-in-github",
        "colab_type": "text"
      },
      "source": [
        "<a href=\"https://colab.research.google.com/github/niravshah241/homogenization/blob/main/homogenization.ipynb\" target=\"_parent\"><img src=\"https://colab.research.google.com/assets/colab-badge.svg\" alt=\"Open In Colab\"/></a>"
      ]
    },
    {
      "cell_type": "code",
      "execution_count": 18,
      "metadata": {
        "id": "X2l4zHW7Zx3M"
      },
      "outputs": [],
      "source": [
        "import numpy as np\n",
        "import matplotlib.pyplot as plt\n",
        "import zipfile\n",
        "try:\n",
        "  import google.colab\n",
        "except ImportError:\n",
        "  from dolfin import *\n",
        "else:\n",
        "  try:\n",
        "    from dolfin import *\n",
        "  except ImportError:\n",
        "    !wget \"https://fem-on-colab.github.io/releases/fenics-install.sh\" -O \"/tmp/fenics-install.sh\" && bash \"/tmp/fenics-install.sh\"\n",
        "    from dolfin import *\n",
        "%matplotlib inline"
      ]
    },
    {
      "cell_type": "code",
      "source": [
        "#1. Domain discretisation\n",
        "!wget \"https://github.com/niravshah241/homogenization/archive/refs/heads/main.zip\" -O \"/tmp/github_files.zip\"\n",
        "\n",
        "zip_ref = zipfile.ZipFile(\"/tmp/github_files.zip\", 'r')\n",
        "zip_ref.extractall(\"/tmp\")\n",
        "zip_ref.close()\n",
        "\n",
        "mesh = Mesh(\"/tmp/homogenization-main/mesh_data/mesh.xml\")\n",
        "gdim = mesh.geometry().dim()\n",
        "subdomains = MeshFunction(\"size_t\", mesh, \"/tmp/homogenization-main/mesh_data/mesh_physical_region.xml\")\n",
        "boundaries = MeshFunction(\"size_t\", mesh, \"/tmp/homogenization-main/mesh_data/mesh_facet_region.xml\")\n",
        "\n",
        "dx = Measure(\"dx\")(subdomain_data=subdomains)\n",
        "ds = Measure(\"ds\")(subdomain_data=boundaries)\n",
        "\n",
        "dx_left = dx(1) #Subdomain 1\n",
        "dx_right = dx(2) #Subdomain 2\n",
        "\n",
        "ds_left = ds(1) #Left boundary\n",
        "ds_right = ds(5) #Right boundary\n",
        "ds_top = ds(2) + ds(4) #Top boundary\n",
        "ds_botom = ds(3) + ds(6) #Bottom boundary\n",
        "\n",
        "n = FacetNormal(mesh)"
      ],
      "metadata": {
        "id": "AJwtMj3oay2c",
        "outputId": "adf4285f-1ed3-47e0-bebb-fed8fe4e1329",
        "colab": {
          "base_uri": "https://localhost:8080/"
        }
      },
      "execution_count": 19,
      "outputs": [
        {
          "output_type": "stream",
          "name": "stdout",
          "text": [
            "--2022-10-30 15:25:53--  https://github.com/niravshah241/homogenization/archive/refs/heads/main.zip\n",
            "Resolving github.com (github.com)... 140.82.121.3\n",
            "Connecting to github.com (github.com)|140.82.121.3|:443... connected.\n",
            "HTTP request sent, awaiting response... 302 Found\n",
            "Location: https://codeload.github.com/niravshah241/homogenization/zip/refs/heads/main [following]\n",
            "--2022-10-30 15:25:54--  https://codeload.github.com/niravshah241/homogenization/zip/refs/heads/main\n",
            "Resolving codeload.github.com (codeload.github.com)... 140.82.113.10\n",
            "Connecting to codeload.github.com (codeload.github.com)|140.82.113.10|:443... connected.\n",
            "HTTP request sent, awaiting response... 200 OK\n",
            "Length: unspecified [application/zip]\n",
            "Saving to: ‘/tmp/github_files.zip’\n",
            "\n",
            "/tmp/github_files.z     [ <=>                ]  27.46K  --.-KB/s    in 0.004s  \n",
            "\n",
            "2022-10-30 15:25:54 (6.07 MB/s) - ‘/tmp/github_files.zip’ saved [28120]\n",
            "\n"
          ]
        }
      ]
    },
    {
      "cell_type": "code",
      "source": [
        "# 2. Create Finite Element space (Lagrange P1)\n",
        "VT = FunctionSpace(mesh,\"CG\",1) # Space for temperature field\n",
        "T_, psi = TrialFunction(VT), TestFunction(VT)\n",
        "T = Function(VT,name=\"Temperature\") # Temperature field\n",
        "T_eq = Function(VT,name=\"Temperature_Equivalent\") # Temperature field with equaivalent conductivity\n",
        "\n",
        "if VT.ufl_element().degree() == 1:\n",
        "  VQ = VectorFunctionSpace(mesh,\"CG\",VT.ufl_element().degree()) # Space for heat flux\n",
        "else:\n",
        "  VQ = VectorFunctionSpace(mesh,\"CG\",VT.ufl_element().degree()-1) # Space for heat flux\n",
        "q_, psi_q = TrialFunction(VQ), TestFunction(VQ)\n",
        "q = Function(VQ,name=\"Heat flux\")\n",
        "\n",
        "dof_coordinates = VT.tabulate_dof_coordinates()"
      ],
      "metadata": {
        "id": "5v2CaA0Drco9",
        "outputId": "bbb9191c-ec5c-4852-8345-ca7855b5c017",
        "colab": {
          "base_uri": "https://localhost:8080/",
          "height": 1000
        }
      },
      "execution_count": 20,
      "outputs": [
        {
          "output_type": "stream",
          "name": "stdout",
          "text": [
            "Calling FFC just-in-time (JIT) compiler, this may take some time.\n"
          ]
        },
        {
          "output_type": "stream",
          "name": "stderr",
          "text": [
            "Level 25:FFC:Calling FFC just-in-time (JIT) compiler, this may take some time.\n",
            "INFO:FFC:Compiling element ffc_element_3801828c0f66b7190a7fd5819465b3d5b34b9149\n",
            "\n",
            "INFO:FFC:Compiler stage 1: Analyzing element(s)\n",
            "INFO:FFC:--------------------------------------\n",
            "INFO:FFC:  \n",
            "INFO:FFC:Compiler stage 1 finished in 0.00480866 seconds.\n",
            "\n",
            "INFO:FFC:Compiler stage 2: Computing intermediate representation\n",
            "INFO:FFC:-------------------------------------------------------\n",
            "INFO:FFC:  Computing representation of 1 elements\n",
            "DEBUG:FFC:  Reusing element from cache\n",
            "DEBUG:FFC:  Reusing element from cache\n",
            "DEBUG:FFC:  Reusing element from cache\n",
            "INFO:FFC:  Computing representation of 1 dofmaps\n",
            "DEBUG:FFC:  Reusing element from cache\n",
            "INFO:FFC:  Computing representation of 0 coordinate mappings\n",
            "INFO:FFC:  Computing representation of integrals\n",
            "INFO:FFC:  Computing representation of forms\n",
            "INFO:FFC:  \n",
            "INFO:FFC:Compiler stage 2 finished in 0.0213025 seconds.\n",
            "\n",
            "INFO:FFC:Compiler stage 3: Optimizing intermediate representation\n",
            "INFO:FFC:--------------------------------------------------------\n",
            "INFO:FFC:  Skipping optimizations, add -O or attach {'optimize': True} metadata to integrals\n",
            "INFO:FFC:  \n",
            "INFO:FFC:Compiler stage 3 finished in 0.00586033 seconds.\n",
            "\n",
            "INFO:FFC:Compiler stage 4: Generating code\n",
            "INFO:FFC:---------------------------------\n",
            "INFO:FFC:  Generating code for 1 finite_element(s)\n",
            "INFO:FFC:  Generating code for 1 dofmap(s)\n",
            "INFO:FFC:  Generating code for 0 coordinate_mapping(s)\n",
            "INFO:FFC:  Generating code for integrals\n",
            "INFO:FFC:  Generating code for forms\n",
            "INFO:FFC:  \n",
            "INFO:FFC:Compiler stage 4 finished in 0.0874448 seconds.\n",
            "\n",
            "INFO:FFC:Compiler stage 4.1 finished in 9.53674e-06 seconds.\n",
            "\n",
            "INFO:FFC:Compiler stage 5: Formatting code\n",
            "INFO:FFC:---------------------------------\n",
            "INFO:FFC:  \n",
            "INFO:FFC:Compiler stage 5 finished in 0.00526214 seconds.\n",
            "\n",
            "INFO:FFC:FFC finished in 0.133873 seconds.\n",
            "------------------- Start compiler output ------------------------\n",
            "INFO:dijitso:------------------- Start compiler output ------------------------\n",
            "c++: fatal error: cannot execute ‘cc1plus’: execvp: No such file or directory\n",
            "compilation terminated.\n",
            "\n",
            "INFO:dijitso:c++: fatal error: cannot execute ‘cc1plus’: execvp: No such file or directory\n",
            "compilation terminated.\n",
            "\n",
            "-------------------  End compiler output  ------------------------\n",
            "INFO:dijitso:-------------------  End compiler output  ------------------------\n",
            "Compilation failed! Sources, command, and errors have been written to: /content/jitfailure-ffc_element_3801828c0f66b7190a7fd5819465b3d5b34b9149\n",
            "WARNING:dijitso:Compilation failed! Sources, command, and errors have been written to: /content/jitfailure-ffc_element_3801828c0f66b7190a7fd5819465b3d5b34b9149\n"
          ]
        },
        {
          "output_type": "error",
          "ename": "DijitsoError",
          "evalue": "ignored",
          "traceback": [
            "\u001b[0;31m---------------------------------------------------------------------------\u001b[0m",
            "\u001b[0;31mDijitsoError\u001b[0m                              Traceback (most recent call last)",
            "\u001b[0;32m<ipython-input-20-900f7121e94e>\u001b[0m in \u001b[0;36m<module>\u001b[0;34m\u001b[0m\n\u001b[1;32m      1\u001b[0m \u001b[0;31m# 2. Create Finite Element space (Lagrange P1)\u001b[0m\u001b[0;34m\u001b[0m\u001b[0;34m\u001b[0m\u001b[0;34m\u001b[0m\u001b[0m\n\u001b[0;32m----> 2\u001b[0;31m \u001b[0mVT\u001b[0m \u001b[0;34m=\u001b[0m \u001b[0mFunctionSpace\u001b[0m\u001b[0;34m(\u001b[0m\u001b[0mmesh\u001b[0m\u001b[0;34m,\u001b[0m\u001b[0;34m\"CG\"\u001b[0m\u001b[0;34m,\u001b[0m\u001b[0;36m1\u001b[0m\u001b[0;34m)\u001b[0m \u001b[0;31m# Space for temperature field\u001b[0m\u001b[0;34m\u001b[0m\u001b[0;34m\u001b[0m\u001b[0m\n\u001b[0m\u001b[1;32m      3\u001b[0m \u001b[0mT_\u001b[0m\u001b[0;34m,\u001b[0m \u001b[0mpsi\u001b[0m \u001b[0;34m=\u001b[0m \u001b[0mTrialFunction\u001b[0m\u001b[0;34m(\u001b[0m\u001b[0mVT\u001b[0m\u001b[0;34m)\u001b[0m\u001b[0;34m,\u001b[0m \u001b[0mTestFunction\u001b[0m\u001b[0;34m(\u001b[0m\u001b[0mVT\u001b[0m\u001b[0;34m)\u001b[0m\u001b[0;34m\u001b[0m\u001b[0;34m\u001b[0m\u001b[0m\n\u001b[1;32m      4\u001b[0m \u001b[0mT\u001b[0m \u001b[0;34m=\u001b[0m \u001b[0mFunction\u001b[0m\u001b[0;34m(\u001b[0m\u001b[0mVT\u001b[0m\u001b[0;34m,\u001b[0m\u001b[0mname\u001b[0m\u001b[0;34m=\u001b[0m\u001b[0;34m\"Temperature\"\u001b[0m\u001b[0;34m)\u001b[0m \u001b[0;31m# Temperature field\u001b[0m\u001b[0;34m\u001b[0m\u001b[0;34m\u001b[0m\u001b[0m\n\u001b[1;32m      5\u001b[0m \u001b[0mT_eq\u001b[0m \u001b[0;34m=\u001b[0m \u001b[0mFunction\u001b[0m\u001b[0;34m(\u001b[0m\u001b[0mVT\u001b[0m\u001b[0;34m,\u001b[0m\u001b[0mname\u001b[0m\u001b[0;34m=\u001b[0m\u001b[0;34m\"Temperature_Equivalent\"\u001b[0m\u001b[0;34m)\u001b[0m \u001b[0;31m# Temperature field with equaivalent conductivity\u001b[0m\u001b[0;34m\u001b[0m\u001b[0;34m\u001b[0m\u001b[0m\n",
            "\u001b[0;32m/usr/local/lib/python3.7/dist-packages/dolfin/function/functionspace.py\u001b[0m in \u001b[0;36m__init__\u001b[0;34m(self, *args, **kwargs)\u001b[0m\n\u001b[1;32m     31\u001b[0m                 \u001b[0mself\u001b[0m\u001b[0;34m.\u001b[0m\u001b[0m_init_from_ufl\u001b[0m\u001b[0;34m(\u001b[0m\u001b[0;34m*\u001b[0m\u001b[0margs\u001b[0m\u001b[0;34m,\u001b[0m \u001b[0;34m**\u001b[0m\u001b[0mkwargs\u001b[0m\u001b[0;34m)\u001b[0m\u001b[0;34m\u001b[0m\u001b[0;34m\u001b[0m\u001b[0m\n\u001b[1;32m     32\u001b[0m             \u001b[0;32melse\u001b[0m\u001b[0;34m:\u001b[0m\u001b[0;34m\u001b[0m\u001b[0;34m\u001b[0m\u001b[0m\n\u001b[0;32m---> 33\u001b[0;31m                 \u001b[0mself\u001b[0m\u001b[0;34m.\u001b[0m\u001b[0m_init_convenience\u001b[0m\u001b[0;34m(\u001b[0m\u001b[0;34m*\u001b[0m\u001b[0margs\u001b[0m\u001b[0;34m,\u001b[0m \u001b[0;34m**\u001b[0m\u001b[0mkwargs\u001b[0m\u001b[0;34m)\u001b[0m\u001b[0;34m\u001b[0m\u001b[0;34m\u001b[0m\u001b[0m\n\u001b[0m\u001b[1;32m     34\u001b[0m \u001b[0;34m\u001b[0m\u001b[0m\n\u001b[1;32m     35\u001b[0m     \u001b[0;32mdef\u001b[0m \u001b[0m_init_from_ufl\u001b[0m\u001b[0;34m(\u001b[0m\u001b[0mself\u001b[0m\u001b[0;34m,\u001b[0m \u001b[0mmesh\u001b[0m\u001b[0;34m,\u001b[0m \u001b[0melement\u001b[0m\u001b[0;34m,\u001b[0m \u001b[0mconstrained_domain\u001b[0m\u001b[0;34m=\u001b[0m\u001b[0;32mNone\u001b[0m\u001b[0;34m)\u001b[0m\u001b[0;34m:\u001b[0m\u001b[0;34m\u001b[0m\u001b[0;34m\u001b[0m\u001b[0m\n",
            "\u001b[0;32m/usr/local/lib/python3.7/dist-packages/dolfin/function/functionspace.py\u001b[0m in \u001b[0;36m_init_convenience\u001b[0;34m(self, mesh, family, degree, form_degree, constrained_domain, restriction)\u001b[0m\n\u001b[1;32m     98\u001b[0m                                     form_degree=form_degree)\n\u001b[1;32m     99\u001b[0m \u001b[0;34m\u001b[0m\u001b[0m\n\u001b[0;32m--> 100\u001b[0;31m         \u001b[0mself\u001b[0m\u001b[0;34m.\u001b[0m\u001b[0m_init_from_ufl\u001b[0m\u001b[0;34m(\u001b[0m\u001b[0mmesh\u001b[0m\u001b[0;34m,\u001b[0m \u001b[0melement\u001b[0m\u001b[0;34m,\u001b[0m \u001b[0mconstrained_domain\u001b[0m\u001b[0;34m=\u001b[0m\u001b[0mconstrained_domain\u001b[0m\u001b[0;34m)\u001b[0m\u001b[0;34m\u001b[0m\u001b[0;34m\u001b[0m\u001b[0m\n\u001b[0m\u001b[1;32m    101\u001b[0m \u001b[0;34m\u001b[0m\u001b[0m\n\u001b[1;32m    102\u001b[0m     \u001b[0;32mdef\u001b[0m \u001b[0mdolfin_element\u001b[0m\u001b[0;34m(\u001b[0m\u001b[0mself\u001b[0m\u001b[0;34m)\u001b[0m\u001b[0;34m:\u001b[0m\u001b[0;34m\u001b[0m\u001b[0;34m\u001b[0m\u001b[0m\n",
            "\u001b[0;32m/usr/local/lib/python3.7/dist-packages/dolfin/function/functionspace.py\u001b[0m in \u001b[0;36m_init_from_ufl\u001b[0;34m(self, mesh, element, constrained_domain)\u001b[0m\n\u001b[1;32m     41\u001b[0m         \u001b[0;31m# Compile dofmap and element\u001b[0m\u001b[0;34m\u001b[0m\u001b[0;34m\u001b[0m\u001b[0;34m\u001b[0m\u001b[0m\n\u001b[1;32m     42\u001b[0m         ufc_element, ufc_dofmap = ffc_jit(element, form_compiler_parameters=None,\n\u001b[0;32m---> 43\u001b[0;31m                                           mpi_comm=mesh.mpi_comm())\n\u001b[0m\u001b[1;32m     44\u001b[0m         \u001b[0mufc_element\u001b[0m \u001b[0;34m=\u001b[0m \u001b[0mcpp\u001b[0m\u001b[0;34m.\u001b[0m\u001b[0mfem\u001b[0m\u001b[0;34m.\u001b[0m\u001b[0mmake_ufc_finite_element\u001b[0m\u001b[0;34m(\u001b[0m\u001b[0mufc_element\u001b[0m\u001b[0;34m)\u001b[0m\u001b[0;34m\u001b[0m\u001b[0;34m\u001b[0m\u001b[0m\n\u001b[1;32m     45\u001b[0m \u001b[0;34m\u001b[0m\u001b[0m\n",
            "\u001b[0;32m/usr/local/lib/python3.7/dist-packages/dolfin/jit/jit.py\u001b[0m in \u001b[0;36mmpi_jit\u001b[0;34m(*args, **kwargs)\u001b[0m\n\u001b[1;32m     45\u001b[0m         \u001b[0;31m# Just call JIT compiler when running in serial\u001b[0m\u001b[0;34m\u001b[0m\u001b[0;34m\u001b[0m\u001b[0;34m\u001b[0m\u001b[0m\n\u001b[1;32m     46\u001b[0m         \u001b[0;32mif\u001b[0m \u001b[0mMPI\u001b[0m\u001b[0;34m.\u001b[0m\u001b[0msize\u001b[0m\u001b[0;34m(\u001b[0m\u001b[0mmpi_comm\u001b[0m\u001b[0;34m)\u001b[0m \u001b[0;34m==\u001b[0m \u001b[0;36m1\u001b[0m\u001b[0;34m:\u001b[0m\u001b[0;34m\u001b[0m\u001b[0;34m\u001b[0m\u001b[0m\n\u001b[0;32m---> 47\u001b[0;31m             \u001b[0;32mreturn\u001b[0m \u001b[0mlocal_jit\u001b[0m\u001b[0;34m(\u001b[0m\u001b[0;34m*\u001b[0m\u001b[0margs\u001b[0m\u001b[0;34m,\u001b[0m \u001b[0;34m**\u001b[0m\u001b[0mkwargs\u001b[0m\u001b[0;34m)\u001b[0m\u001b[0;34m\u001b[0m\u001b[0;34m\u001b[0m\u001b[0m\n\u001b[0m\u001b[1;32m     48\u001b[0m \u001b[0;34m\u001b[0m\u001b[0m\n\u001b[1;32m     49\u001b[0m         \u001b[0;31m# Default status (0 == ok, 1 == fail)\u001b[0m\u001b[0;34m\u001b[0m\u001b[0;34m\u001b[0m\u001b[0;34m\u001b[0m\u001b[0m\n",
            "\u001b[0;32m/usr/local/lib/python3.7/dist-packages/dolfin/jit/jit.py\u001b[0m in \u001b[0;36mffc_jit\u001b[0;34m(ufl_form, form_compiler_parameters)\u001b[0m\n\u001b[1;32m     95\u001b[0m     \u001b[0mp\u001b[0m\u001b[0;34m.\u001b[0m\u001b[0mupdate\u001b[0m\u001b[0;34m(\u001b[0m\u001b[0mdict\u001b[0m\u001b[0;34m(\u001b[0m\u001b[0mparameters\u001b[0m\u001b[0;34m[\u001b[0m\u001b[0;34m\"form_compiler\"\u001b[0m\u001b[0;34m]\u001b[0m\u001b[0;34m)\u001b[0m\u001b[0;34m)\u001b[0m\u001b[0;34m\u001b[0m\u001b[0;34m\u001b[0m\u001b[0m\n\u001b[1;32m     96\u001b[0m     \u001b[0mp\u001b[0m\u001b[0;34m.\u001b[0m\u001b[0mupdate\u001b[0m\u001b[0;34m(\u001b[0m\u001b[0mform_compiler_parameters\u001b[0m \u001b[0;32mor\u001b[0m \u001b[0;34m{\u001b[0m\u001b[0;34m}\u001b[0m\u001b[0;34m)\u001b[0m\u001b[0;34m\u001b[0m\u001b[0;34m\u001b[0m\u001b[0m\n\u001b[0;32m---> 97\u001b[0;31m     \u001b[0;32mreturn\u001b[0m \u001b[0mffc\u001b[0m\u001b[0;34m.\u001b[0m\u001b[0mjit\u001b[0m\u001b[0;34m(\u001b[0m\u001b[0mufl_form\u001b[0m\u001b[0;34m,\u001b[0m \u001b[0mparameters\u001b[0m\u001b[0;34m=\u001b[0m\u001b[0mp\u001b[0m\u001b[0;34m)\u001b[0m\u001b[0;34m\u001b[0m\u001b[0;34m\u001b[0m\u001b[0m\n\u001b[0m\u001b[1;32m     98\u001b[0m \u001b[0;34m\u001b[0m\u001b[0m\n\u001b[1;32m     99\u001b[0m \u001b[0;34m\u001b[0m\u001b[0m\n",
            "\u001b[0;32m/usr/local/lib/python3.7/dist-packages/ffc/jitcompiler.py\u001b[0m in \u001b[0;36mjit\u001b[0;34m(ufl_object, parameters, indirect)\u001b[0m\n\u001b[1;32m    215\u001b[0m \u001b[0;34m\u001b[0m\u001b[0m\n\u001b[1;32m    216\u001b[0m     \u001b[0;31m# Inspect cache and generate+build if necessary\u001b[0m\u001b[0;34m\u001b[0m\u001b[0;34m\u001b[0m\u001b[0;34m\u001b[0m\u001b[0m\n\u001b[0;32m--> 217\u001b[0;31m     \u001b[0mmodule\u001b[0m \u001b[0;34m=\u001b[0m \u001b[0mjit_build\u001b[0m\u001b[0;34m(\u001b[0m\u001b[0mufl_object\u001b[0m\u001b[0;34m,\u001b[0m \u001b[0mmodule_name\u001b[0m\u001b[0;34m,\u001b[0m \u001b[0mparameters\u001b[0m\u001b[0;34m)\u001b[0m\u001b[0;34m\u001b[0m\u001b[0;34m\u001b[0m\u001b[0m\n\u001b[0m\u001b[1;32m    218\u001b[0m \u001b[0;34m\u001b[0m\u001b[0m\n\u001b[1;32m    219\u001b[0m     \u001b[0;31m# Raise exception on failure to build or import module\u001b[0m\u001b[0;34m\u001b[0m\u001b[0;34m\u001b[0m\u001b[0;34m\u001b[0m\u001b[0m\n",
            "\u001b[0;32m/usr/local/lib/python3.7/dist-packages/ffc/jitcompiler.py\u001b[0m in \u001b[0;36mjit_build\u001b[0;34m(ufl_object, module_name, parameters)\u001b[0m\n\u001b[1;32m    131\u001b[0m                                     \u001b[0mname\u001b[0m\u001b[0;34m=\u001b[0m\u001b[0mmodule_name\u001b[0m\u001b[0;34m,\u001b[0m\u001b[0;34m\u001b[0m\u001b[0;34m\u001b[0m\u001b[0m\n\u001b[1;32m    132\u001b[0m                                     \u001b[0mparams\u001b[0m\u001b[0;34m=\u001b[0m\u001b[0mparams\u001b[0m\u001b[0;34m,\u001b[0m\u001b[0;34m\u001b[0m\u001b[0;34m\u001b[0m\u001b[0m\n\u001b[0;32m--> 133\u001b[0;31m                                     generate=jit_generate)\n\u001b[0m\u001b[1;32m    134\u001b[0m     \u001b[0;32mreturn\u001b[0m \u001b[0mmodule\u001b[0m\u001b[0;34m\u001b[0m\u001b[0;34m\u001b[0m\u001b[0m\n\u001b[1;32m    135\u001b[0m \u001b[0;34m\u001b[0m\u001b[0m\n",
            "\u001b[0;32m/usr/local/lib/python3.7/dist-packages/dijitso/jit.py\u001b[0m in \u001b[0;36mjit\u001b[0;34m(jitable, name, params, generate, send, receive, wait)\u001b[0m\n\u001b[1;32m    215\u001b[0m         \u001b[0;31m# TODO: Parse output to find error(s) for better error messages\u001b[0m\u001b[0;34m\u001b[0m\u001b[0;34m\u001b[0m\u001b[0;34m\u001b[0m\u001b[0m\n\u001b[1;32m    216\u001b[0m         raise DijitsoError(\"Dijitso JIT compilation failed, see '%s' for details\"\n\u001b[0;32m--> 217\u001b[0;31m                            % err_info['fail_dir'], err_info)\n\u001b[0m\u001b[1;32m    218\u001b[0m \u001b[0;34m\u001b[0m\u001b[0m\n\u001b[1;32m    219\u001b[0m     \u001b[0;31m# Return built library and its signature\u001b[0m\u001b[0;34m\u001b[0m\u001b[0;34m\u001b[0m\u001b[0;34m\u001b[0m\u001b[0m\n",
            "\u001b[0;31mDijitsoError\u001b[0m: Dijitso JIT compilation failed, see '/content/jitfailure-ffc_element_3801828c0f66b7190a7fd5819465b3d5b34b9149' for details"
          ]
        }
      ]
    },
    {
      "cell_type": "code",
      "source": [
        "# 3. Material and boundary properties, Source term\n",
        "k_left = 8. # Thermal conductivity left subdomain\n",
        "k_right = 4. # Thermal conductivity right subdomain\n",
        "T_left = Constant(1800.) # Temperature on left boundary\n",
        "T_right = Constant(300.) # Temperature on right boundary"
      ],
      "metadata": {
        "id": "7yexYQmksX1X"
      },
      "execution_count": null,
      "outputs": []
    },
    {
      "cell_type": "code",
      "source": [
        "# 4. Compute heat flux\n",
        "\n",
        "def compute_heat_flux(temp_field):\n",
        "  '''\n",
        "  Compute the heat flux at given temperature field\n",
        "  Input:\n",
        "  temp_field: Function over Functionspace\n",
        "  Output:\n",
        "  q: Function over VectorFunctionSpace\n",
        "  '''\n",
        "  a_q = inner(q_, psi_q) * dx_left + inner(q_, psi_q) * dx_right\n",
        "  l_q = inner(-k_left * grad(temp_field), psi_q) * dx_left + inner(-k_right * grad(temp_field), psi_q) * dx_right\n",
        "  solve(a_q == l_q, q)\n",
        "  return q"
      ],
      "metadata": {
        "id": "G1L5xx1es3Ok"
      },
      "execution_count": null,
      "outputs": []
    },
    {
      "cell_type": "code",
      "source": [
        "# 5. Weak formulation\n",
        "a_T = inner(k_left*grad(T_),grad(psi)) * dx_left + inner(k_right*grad(T_),grad(psi)) * dx_right\n",
        "l_T = inner(Constant(0.),psi) * dx\n",
        "\n",
        "bcs = [DirichletBC(VT,T_left,boundaries,1),DirichletBC(VT,T_right,boundaries,5)]\n",
        "\n",
        "solve(a_T==l_T,T,bcs)"
      ],
      "metadata": {
        "id": "l7kYGQN4tNt5"
      },
      "execution_count": null,
      "outputs": []
    },
    {
      "cell_type": "code",
      "source": [
        "# 6. Post processing\n",
        "\n",
        "xdmf_file = XDMFFile(\"/tmp/homogenization-main/solution_field/temperature.xdmf\") #Path to save output files in google drive\n",
        "xdmf_file.parameters[\"flush_output\"] = True\n",
        "xdmf_file.parameters[\"functions_share_mesh\"] = True\n",
        "xdmf_file.parameters[\"rewrite_function_mesh\"] = False\n",
        "xdmf_file.write(T,0)\n",
        "gradT = project(grad(T),VQ)\n",
        "gradT.rename(\"Temperature gradient\",\"some label\")\n",
        "xdmf_file.write(gradT,0)\n",
        "xdmf_file.write(compute_heat_flux(T),0)"
      ],
      "metadata": {
        "id": "tba5jDXwOxks"
      },
      "execution_count": null,
      "outputs": []
    },
    {
      "cell_type": "code",
      "source": [
        "# 7. Compute equivalent conductivity and solution fields\n",
        "k_eq = -assemble(compute_heat_flux(T)[0]*dx) / assemble(T.dx(0)*dx)\n",
        "print(k_eq)\n",
        "\n",
        "a_T = inner(k_eq*grad(T_),grad(psi)) * dx\n",
        "l_T = inner(Constant(0.),psi) * dx\n",
        "\n",
        "bcs = [DirichletBC(VT,T_left,boundaries,1),DirichletBC(VT,T_right,boundaries,5)]\n",
        "\n",
        "solve(a_T==l_T,T_eq,bcs)\n",
        "\n",
        "plot(T_eq)\n",
        "plt.show()"
      ],
      "metadata": {
        "id": "lHedgkC15VBb"
      },
      "execution_count": null,
      "outputs": []
    },
    {
      "cell_type": "code",
      "source": [
        "# 8. Post processing\n",
        "xdmf_file = XDMFFile(\"/tmp/homogenization-main/solution_field/temperature_equivalent.xdmf\") #Path to save output files in google drive\n",
        "xdmf_file.parameters[\"flush_output\"] = True\n",
        "xdmf_file.parameters[\"functions_share_mesh\"] = True\n",
        "xdmf_file.parameters[\"rewrite_function_mesh\"] = False\n",
        "xdmf_file.write(T_eq,0)\n",
        "gradTeq = project(grad(T_eq),VQ)\n",
        "gradTeq.rename(\"Equivalent temperature gradient\",\"some label2\")\n",
        "xdmf_file.write(gradTeq,0)\n",
        "xdmf_file.write(compute_heat_flux(T_eq),0)"
      ],
      "metadata": {
        "id": "GrQGe9KuPGHp"
      },
      "execution_count": null,
      "outputs": []
    },
    {
      "cell_type": "code",
      "source": [
        "# 9. Error assessment and post processing of error\n",
        "error = norm(project(T-T_eq,VT),\"L2\")/norm(T,\"L2\")\n",
        "print(\"Error: \",error)\n",
        "\n",
        "xdmf_file = XDMFFile(\"/tmp/homogenization-main/solution_field/spatial_error.xdmf\") #Path to save output files in google drive\n",
        "xdmf_file.parameters[\"flush_output\"] = True\n",
        "xdmf_file.parameters[\"functions_share_mesh\"] = True\n",
        "xdmf_file.parameters[\"rewrite_function_mesh\"] = False\n",
        "xdmf_file.write(project(T-T_eq,VT),0)\n",
        "xdmf_file.write(project(grad(T-T_eq),VQ),0)\n",
        "xdmf_file.write(project(compute_heat_flux(T-T_eq),VQ),0)"
      ],
      "metadata": {
        "id": "1wTNR1l_55mc"
      },
      "execution_count": null,
      "outputs": []
    },
    {
      "cell_type": "code",
      "source": [
        "# 10. Save values in numpy format\n",
        "np.save(\"/tmp/homogenization-main/solution_field/mesh_x_coordinates.npy\",dof_coordinates[:,0])\n",
        "np.save(\"/tmp/homogenization-main/solution_field/mesh_y_coordinates.npy\",dof_coordinates[:,1])\n",
        "np.save(\"/tmp/homogenization-main/solution_field/temperature_at_nodes.npy\",T.vector().get_local())\n",
        "np.save(\"/tmp/homogenization-main/solution_field/equivalent_temperature_at_nodes.npy\",T_eq.vector().get_local())\n",
        "np.save(\"/tmp/homogenization-main/solution_field/temperature_gradient_at_nodes.npy\",gradT.sub(0).vector().get_local())\n",
        "np.save(\"/tmp/homogenization-main/solution_field/equivalent_temperature_gradient_at_nodes.npy\",gradTeq.sub(0).vector().get_local())"
      ],
      "metadata": {
        "id": "evxXpu49HV0B"
      },
      "execution_count": null,
      "outputs": []
    }
  ]
}